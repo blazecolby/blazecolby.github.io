{
 "cells": [
  {
   "cell_type": "markdown",
   "metadata": {
    "colab_type": "text",
    "id": "_CDeKJgfhygT"
   },
   "source": [
    "$$ \\text{Explainability in AI} $$ "
   ]
  },
  {
   "cell_type": "markdown",
   "metadata": {
    "colab_type": "text",
    "id": "iDbEM1LJhygV"
   },
   "source": [
    "# What does Explainability mean:\n",
    "Objectives: \n",
    "- DEMONSTRATE HOW NEURAL NETWORKS ARE NOT DIRECTLY EXPLAINABLE\t\n",
    "- NOT EVEN LINEAR REGRESSION IS DIRECTLY EXPLAINABLE TO THE LAYMAN\n",
    "- EXPOSE SHORT COMINGS OF CURRENT PRACTICES\n",
    "- ADVANCE USER TO NEXT LOGICAL STEP\n",
    "- CALL TO ACTION: UTILIZE EXPLAINABILITY IN WORKFLOW\n",
    "- IDEAL TIME: APPROXIMATELY 4 MINUTES [7 MINUTES]"
   ]
  },
  {
   "cell_type": "markdown",
   "metadata": {
    "colab_type": "text",
    "id": "MV_IsoMKhygW"
   },
   "source": [
    "## Explainability does not just pertain to machine learning.\n",
    "\n",
    "    Explainability may be most prevalent in sociology. Someone comes up with a theory, and they set up a survey or a trial to test it; they see the results and repeat the process if needed. Physics, someone comes up with a theory, then find ways to test it ,i.e. God particle, quantum physics, etc. Just as a note, explainability doesn’t necessarily mean efficacy; the common drug acetaminophen is known to be unsure of why exactly its effects work. However, we can see that causality is a strong heuristic to look for in any domain for signs of explainability. "
   ]
  },
  {
   "cell_type": "markdown",
   "metadata": {
    "colab_type": "text",
    "id": "TZByQQKehygX"
   },
   "source": [
    "## Explainability in STEM/life sciences/economics (rational man theory).\n",
    "\n",
    "    Rational man theory, or rational choice theory assumes that a person will always make prudent and logical decisions that yield the most benefits. As a side, bounded rationality suggests people frequently choose options without the ability to gather all pertinent information. Think of a weighted decision matrix. We are all frequently making decisions and weighing what is most important given x number of variables such as time and money. A decision is in large part based on the explainability of the model. Explainability being the extent to which we can no longer ask why. Explainability comes down to both the complexity of the problem as well as the circle of competence of the person making the decision. If we don't understand why we are making decisions then we are far less likely to make quality decisions."
   ]
  },
  {
   "cell_type": "markdown",
   "metadata": {
    "colab_type": "text",
    "id": "ERH6IiSGhygY"
   },
   "source": [
    "## Data selection, feature engineering, transformations/permutations.\n",
    "\n",
    "    Data selection will be similar for the most part, assuming practitioners currently pay attention to the type of data and how well that data is understood. The added step of understanding business logic on data bias and risk assessment will assist the data selection process. Feature engineering will once again be very similar; following the first run of a model, an additional step will help this. That being understanding the business logic of the overall model/features/metrics and risk assessment. This includes looking at correlation, causation and creating semantic explanations for relevant behaviors. Once again all of this is dependent on model-specific methods vs model-agnostic methods. Model-specific will vary by model. Model-agnostic will vary by method. "
   ]
  },
  {
   "cell_type": "markdown",
   "metadata": {
    "colab_type": "text",
    "id": "u8Zjq0UOhygY"
   },
   "source": [
    "## Algorithm selection, hyperparameter tuning.\n",
    "\n",
    "    Explainability breaks down into model-specific explainability and model-agnostic explainability. Model-specific methods differ between each unique model; because of this it may be best to use model-agnostic methods. Model-agnostic methods will provide a general language to be able to work with a wider variety of models. Looking forward, this will also act as an easier framework to remember and to implement in personal projects, academics, jobs or the like.\n",
    "\n",
    "    Explainability is new; therefore, algorithms and frameworks are still being created and codified. Two popular model-agnostic methods are integrated gradients and shapley values. There are some limitations with these. When looking at what model to use, any model that uses gradient descent is differentiable therefore integrated gradients may be better. This will include neural networks, logistic regression, support vector machines, and the like. If the models are non-differentiable then shapley values will work. This will include trees, i.e. boosted trees and random forests. "
   ]
  },
  {
   "cell_type": "markdown",
   "metadata": {
    "colab_type": "text",
    "id": "uqOON2bxhygZ"
   },
   "source": [
    "## Data science is a compound skill that draws from multiple disciplines. Intersection between programming, mathematics, and subject matter expertise.\n",
    "\n",
    "    One example of what a good mix of these attributes is a machine learning practitioner by the name of Marcos Lopez de Prado. He has deep domain expertise in investing, and has been able to apply machine learning, programming, and mathematics to help bring novel methods to the field. His domain experience allows him to be able to view the field of investing from an abstracted high level and detail oriented low level. The main thing that he brings to the table is his ability to understand why he is doing what he is doing. He has an idea of the overall market and that it’s really difficult to find alpha in regards to macro;therefore, leaving micro alpha to the playing field. He understands the type of data in the industry and where to get it, i.e. the data is most used is hardest to find novelty and the data that’s least used or least cleaned is the most valuable data. "
   ]
  },
  {
   "cell_type": "markdown",
   "metadata": {
    "colab_type": "text",
    "id": "7h_v-8rWhyga"
   },
   "source": [
    "## What is the difference between interpretability and explainability.\t\n",
    "\n",
    "    Interpretability is the ability to see a models parameters and equations. Explainability is the ability to ask relevant why’s. When DARPA came out with their XAI challenge in 2016 they had 3 main goals: how to produce more explainable models, how to design the explanation interface, and how to understand requirements for effective explanations. So to understand explainability we can look empirically at how we learn. We might use counterfactuals, comparisons, context through stories, point out errors, or look for causality.  "
   ]
  },
  {
   "cell_type": "markdown",
   "metadata": {
    "colab_type": "text",
    "id": "PrM2If_mhyga"
   },
   "source": [
    "## Contextualize the difference.\n",
    "\n",
    "    Let’s take an example of an image from autonomous driving. There are different conditions that the model has to account for. Imagine a freeze frame of a dangerous road. With an interpretable model the model will output red colored pixels signifying what areas of the image were used to predict that the road was dangerous. This could be a road with standing water. The model will highlight the areas with water signifying that it thinks that this is dangerous. With an explainable model, the reasons why the model are dangerous will be broken down more granularly. The model will show the pixels but it will also provide reasons for areas that are deemed safe versus dangerous. This could be that the model thinks the road is dangerous because there is standing water, there is rain, and there is a steep decline. The reasons why the model thinks the road is safe could be that it is day and that there are no other cars on the road. The goal is to know what areas are related to which predictions and the amount that the given predictions contribute to the overall prediction of the model. We then want to be able to codify this into higher level questions and answers. "
   ]
  },
  {
   "cell_type": "markdown",
   "metadata": {
    "colab_type": "text",
    "id": "May-cQs8hygb"
   },
   "source": [
    "## Why does this impact data scientists, engineers, etc.\n",
    "\n",
    "\tThis impacts data scientists because it introduces a new way of looking at the problems that are being solved. Instead of focusing on maximizing or minimizing model metrics, explainability will focus on understanding that a is connected to b and the ‘why’ put into context. \n",
    "\n",
    "    This also impacts data scientists because it provides a new toolset to be able to provide understanding and efficiency in how machine learning is used. It impacts engineers because engineering is all about systems and causality, by adding explainability into the hands of variants of engineers, a lot of systems may become more ready for advancement. \n",
    "    \n",
    "    As a slightly more abstracted idea, it may change the experiment before proofs mindset; instead of replacing math algorithms and proofs with testable math, i.e. running NN until your model learns what’s going on, we can start to move back to algorithms and proofs by looking at the why then by creating more articulate algorithms. "
   ]
  },
  {
   "cell_type": "markdown",
   "metadata": {
    "colab_type": "text",
    "id": "Oky29NILhygc"
   },
   "source": [
    "## How will this affect workflow.\n",
    "\n",
    "    The processes that are added are done so in an attempt to limit, remove, or identify bias and to implement monitoring as well as implementing a design plan to add a human in the loop. First step is to get data and clean the data based on our working base of knowledge. The next step is the first added step which is to look at the business understanding on the data bias through risk assessment. Next define features, select a model and parameters, and define the scoring metrics along with calculating the accuracy. Once this is done, rinse and repeat as needed. The next added step is to do as we similarly did. Look at the business logic as well as the modelling, metric and feature understanding along with risk management. Persist the model and the code then predict using transformations and the trained model. The last added step is to look at the requirements for infrastructure required for monitoring, and to add process design plans to include human interactions in the loop. Overall it will add a lot more interaction in terms of key stakeholders as well as combining interaction with greater exploration of feature importance, accuracy and error. "
   ]
  },
  {
   "cell_type": "markdown",
   "metadata": {
    "colab_type": "text",
    "id": "nL_vSV9Thygc"
   },
   "source": [
    "## Code pattern that demonstrates an interpretable model/practice versus an explainable one. \n",
    "\n",
    "    Interpretability in regards to deep learning, in one sense, may be broken down into 3 areas. General attribution, looks at the contribution of each input feature to the model output; layer attribution, looks at the contribution of each neuron in a given layer to the output; neuron attribution, looks at the contribution of each input feature on the activation of a particular hidden neuron."
   ]
  },
  {
   "cell_type": "code",
   "execution_count": null,
   "metadata": {
    "colab": {},
    "colab_type": "code",
    "id": "l1a-ibeNhygd"
   },
   "outputs": [],
   "source": [
    "# Pytorch with Facebook's Captum with an example of Integrated Gradients. \n",
    "# Code from Pytorch tutorial with some changes.\n",
    "!pip install captum\n",
    "\n",
    "import numpy as np\n",
    "import torch.nn as nn\n",
    "import torch, torchvision\n",
    "import torch.optim as optim\n",
    "from torchvision import models\n",
    "import torch.nn.functional as F\n",
    "import torchvision.transforms as transforms\n",
    "import torchvision.transforms.functional as TF\n",
    "from captum.attr import IntegratedGradients\n",
    "from captum.attr import visualization as viz\n",
    "\n",
    "# install cuda: https://developer.nvidia.com/cuda-downloads"
   ]
  },
  {
   "cell_type": "code",
   "execution_count": 11,
   "metadata": {
    "colab": {
     "base_uri": "https://localhost:8080/",
     "height": 82
    },
    "colab_type": "code",
    "id": "kTA1xkcXhygf",
    "outputId": "cc98dc76-49af-4201-9274-e6159b452ce1"
   },
   "outputs": [
    {
     "name": "stderr",
     "output_type": "stream",
     "text": [
      "0it [00:00, ?it/s]"
     ]
    },
    {
     "name": "stdout",
     "output_type": "stream",
     "text": [
      "Downloading https://www.cs.toronto.edu/~kriz/cifar-10-python.tar.gz to ./data/cifar-10-python.tar.gz\n"
     ]
    },
    {
     "name": "stderr",
     "output_type": "stream",
     "text": [
      "170500096it [00:06, 27049418.82it/s]                               \n"
     ]
    },
    {
     "name": "stdout",
     "output_type": "stream",
     "text": [
      "Extracting ./data/cifar-10-python.tar.gz to ./data\n",
      "Files already downloaded and verified\n"
     ]
    }
   ],
   "source": [
    "transform = transforms.Compose([transforms.ToTensor(), transforms.Normalize((0.5, 0.5, 0.5), (0.5, 0.5, 0.5))])\n",
    "trainset = torchvision.datasets.CIFAR10(root='./data', train=True, download=True, transform=transform)\n",
    "trainloader = torch.utils.data.DataLoader(trainset, batch_size=4, shuffle=True, num_workers=2)\n",
    "testset = torchvision.datasets.CIFAR10(root='./data', train=False, download=True, transform=transform)\n",
    "testloader = torch.utils.data.DataLoader(testset, batch_size=4, shuffle=False, num_workers=2)\n",
    "classes = ('plane', 'car', 'bird', 'cat', 'deer', 'dog', 'frog', 'horse', 'ship', 'truck')\n",
    "\n",
    "class Net(nn.Module):\n",
    "    def __init__(self):\n",
    "        super(Net, self).__init__()\n",
    "        self.conv1 = nn.Conv2d(3, 6, 5)\n",
    "        self.pool1 = nn.MaxPool2d(2, 2)\n",
    "        self.pool2 = nn.MaxPool2d(2, 2)\n",
    "        self.conv2 = nn.Conv2d(6, 16, 5)\n",
    "        self.fc1 = nn.Linear(16 * 5 * 5, 120)\n",
    "        self.fc2 = nn.Linear(120, 84)\n",
    "        self.fc3 = nn.Linear(84, 10)\n",
    "        self.relu1 = nn.ReLU()\n",
    "        self.relu2 = nn.ReLU()\n",
    "        self.relu3 = nn.ReLU()\n",
    "        self.relu4 = nn.ReLU()\n",
    " \n",
    "    def forward(self, x):\n",
    "        x = self.pool1(self.relu1(self.conv1(x)))\n",
    "        x = self.pool2(self.relu2(self.conv2(x)))\n",
    "        x = x.view(-1, 16 * 5 * 5)\n",
    "        x = self.relu3(self.fc1(x))\n",
    "        x = self.relu4(self.fc2(x))\n",
    "        x = self.fc3(x)\n",
    "        return x\n",
    "\n",
    "net = Net()"
   ]
  },
  {
   "cell_type": "code",
   "execution_count": 12,
   "metadata": {
    "colab": {
     "base_uri": "https://localhost:8080/",
     "height": 228
    },
    "colab_type": "code",
    "id": "eLXIe3pFhygj",
    "outputId": "e109fb0a-06a5-4a57-8843-860ddc1eaced"
   },
   "outputs": [
    {
     "data": {
      "text/plain": [
       "Net(\n",
       "  (conv1): Conv2d(3, 6, kernel_size=(5, 5), stride=(1, 1))\n",
       "  (pool1): MaxPool2d(kernel_size=2, stride=2, padding=0, dilation=1, ceil_mode=False)\n",
       "  (pool2): MaxPool2d(kernel_size=2, stride=2, padding=0, dilation=1, ceil_mode=False)\n",
       "  (conv2): Conv2d(6, 16, kernel_size=(5, 5), stride=(1, 1))\n",
       "  (fc1): Linear(in_features=400, out_features=120, bias=True)\n",
       "  (fc2): Linear(in_features=120, out_features=84, bias=True)\n",
       "  (fc3): Linear(in_features=84, out_features=10, bias=True)\n",
       "  (relu1): ReLU()\n",
       "  (relu2): ReLU()\n",
       "  (relu3): ReLU()\n",
       "  (relu4): ReLU()\n",
       ")"
      ]
     },
     "execution_count": 12,
     "metadata": {
      "tags": []
     },
     "output_type": "execute_result"
    }
   ],
   "source": [
    "criterion = nn.CrossEntropyLoss()\n",
    "optimizer = optim.SGD(net.parameters(), lr=0.001, momentum=0.9)\n",
    "\n",
    "dataiter = iter(testloader)\n",
    "images, labels = dataiter.next()\n",
    "outputs = net(images)\n",
    "_, predicted = torch.max(outputs, 1)\n",
    "\n",
    "ind = 3\n",
    "input = images[ind].unsqueeze(0)\n",
    "input.requires_grad = True\n",
    "net.eval()"
   ]
  },
  {
   "cell_type": "code",
   "execution_count": 13,
   "metadata": {
    "colab": {
     "base_uri": "https://localhost:8080/",
     "height": 33
    },
    "colab_type": "code",
    "id": "nP4YMu4whygn",
    "outputId": "9e8be7f1-e819-4312-db79-dfbfc72c89d2"
   },
   "outputs": [
    {
     "name": "stdout",
     "output_type": "stream",
     "text": [
      "Approximation delta:  tensor([0.0001])\n"
     ]
    }
   ],
   "source": [
    "def attribute_image_features(algorithm, input, **kwargs):\n",
    "    net.zero_grad()\n",
    "    tensor_attributions = algorithm.attribute(input,target=labels[ind],**kwargs)\n",
    "    return tensor_attributions\n",
    " \n",
    "ig = IntegratedGradients(net)\n",
    "attr_ig, delta = attribute_image_features(ig, input, baselines=input * 0, return_convergence_delta=True)\n",
    "attr_ig = np.transpose(attr_ig.squeeze().cpu().detach().numpy(), (1, 2, 0))\n",
    "print('Approximation delta: ', abs(delta)) # The lower the abs error the better the approximation."
   ]
  },
  {
   "cell_type": "markdown",
   "metadata": {
    "colab_type": "text",
    "id": "QXH9kREThygq"
   },
   "source": [
    "Delta is the difference between the total approximated and true integrated gradients. Using delta we can preview the underpinnings of the model and how the predicted and the actual compare to one another. We could preview a whole image as well with one output to one pixel. Although we can preview the error of each given pixel or feature it doesn’t necessarily provide us with insight into what exactly we’re looking at. "
   ]
  },
  {
   "cell_type": "code",
   "execution_count": 14,
   "metadata": {
    "colab": {
     "base_uri": "https://localhost:8080/",
     "height": 762
    },
    "colab_type": "code",
    "id": "ipUCJb0fhygs",
    "outputId": "e4c176ce-9aca-4ed0-e31d-0e6f49ceb339"
   },
   "outputs": [
    {
     "name": "stderr",
     "output_type": "stream",
     "text": [
      "Clipping input data to the valid range for imshow with RGB data ([0..1] for floats or [0..255] for integers).\n"
     ]
    },
    {
     "data": {
      "image/png": "[encoded data removed]",
      "text/plain": [
       "<Figure size 432x432 with 1 Axes>"
      ]
     },
     "metadata": {
      "tags": []
     },
     "output_type": "display_data"
    },
    {
     "data": {
      "image/png": "[encoded data removed]",
      "text/plain": [
       "<Figure size 432x432 with 2 Axes>"
      ]
     },
     "metadata": {
      "tags": []
     },
     "output_type": "display_data"
    }
   ],
   "source": [
    "original_image = np.transpose((images[ind].cpu().detach().numpy()) + 0.5, (1, 2, 0))\n",
    " \n",
    "_ = viz.visualize_image_attr(None, original_image, method=\"original_image\", title=\"Original Image\")\n",
    "_ = viz.visualize_image_attr(attr_ig, original_image, method=\"blended_heat_map\",sign=\"all\", show_colorbar=True, title=\"Overlay of Integrated Gradients\")"
   ]
  },
  {
   "cell_type": "markdown",
   "metadata": {
    "colab_type": "text",
    "id": "pKWVYuQ1hygu"
   },
   "source": [
    "    The image on the top is the original image of a ship. The image on the bottom is the overlay of gradient magnitudes showing what attributes contribute to the overall prediction of a ship. Integrated gradients are being used just as before. Although the image is really low resolution we can make out a set of pixels that were used for the prediction. By viewing certain pixels or superpixels we can see general behaviors of how the model is making predictions. \n",
    "    \n",
    "    Explainability is a developing topic, especially when using images. A lot of scenarios that are being used involve having deep domain knowledge. This is where high level semantic feature explanations will come more into play, and are currently being worked on. "
   ]
  },
  {
   "cell_type": "markdown",
   "metadata": {
    "colab_type": "text",
    "id": "2WXUxEUThygv"
   },
   "source": [
    "## We do not want to tackle a complex problem with a complex solution\n",
    "\n",
    "    We have to take into account users limitations, i.e. if you have too many features, the user is not going to want to sit and digest all of it. One solution to this is to pick out a select few features and to view them individually aka locally. The other alternative is to use global importance measures by either averaging out a handful of selected features or by looking at all the features then taking the average. "
   ]
  },
  {
   "cell_type": "markdown",
   "metadata": {
    "colab_type": "text",
    "id": "KuG3mkd5hygv"
   },
   "source": [
    "## Instead, we want to alter a workflow that is conducive to CACE and DRY principles to reduce redundant code patterns and offer explainability at all points of the data science process.\n",
    "\n",
    "    Both model-specific and model-agnostic methods act as a means for the DRY methodology. The typical machine learning workflow may consist of creating a basic model to test the application, increasing complexity, moving to a more complex mode. \n",
    "    \n",
    "    Say you are trying to train a robot to pick up objects. You may start with a CNN to get a basic working model. Once you have a basic model you can quickly increase the complexity by adding layers, model parameters, then fine tune. After running the model a few times, you may move to a more complex model such as a Resnet-50 or the like then repeat the complexity and the fine tuning. If you use explainable methodologies, you can point to specific problem regions, and better understand the implications of any given model."
   ]
  },
  {
   "cell_type": "markdown",
   "metadata": {
    "colab_type": "text",
    "id": "nOAhiNmyhygw"
   },
   "source": [
    "## Highlight the difference between the blackbox model, and then show a model that has LIME wrapped on it, and demonstrates what features are relevant."
   ]
  },
  {
   "cell_type": "code",
   "execution_count": null,
   "metadata": {
    "colab": {},
    "colab_type": "code",
    "id": "4-vw8pTyoVsw"
   },
   "outputs": [],
   "source": [
    "# !pip install lime"
   ]
  },
  {
   "cell_type": "code",
   "execution_count": null,
   "metadata": {
    "colab": {},
    "colab_type": "code",
    "id": "8Sv3-nd6hygw"
   },
   "outputs": [],
   "source": [
    "# Lime with ImageNet and Pytorch. Code pulled from 'github.com/marcotcr/', a lime library.\n",
    "\n",
    "import numpy as np\n",
    "import torchvision\n",
    "import torch.nn as nn\n",
    "import torch, os, json\n",
    "import torch.nn.functional as F\n",
    "import matplotlib.pyplot as plt\n",
    "from PIL import Image\n",
    "from torch.autograd import Variable\n",
    "from torchvision import models, transforms"
   ]
  },
  {
   "cell_type": "code",
   "execution_count": null,
   "metadata": {
    "colab": {},
    "colab_type": "code",
    "id": "6z9wIxgXhygz"
   },
   "outputs": [],
   "source": [
    "imagenet_data = torchvision.datasets.ImageFolder(root='/')\n",
    "data_loader = torch.utils.data.DataLoader(imagenet_data, batch_size=4, shuffle=True)\n",
    "\n",
    "# convert image to tensor and also apply whitening as used by pretrained model.\n",
    "# Resize and take the center part of image to what our model expects.\n",
    "def get_input_transform():\n",
    "    normalize = transforms.Normalize(mean=[0.485, 0.456, 0.406], std=[0.229, 0.224, 0.225])       \n",
    "    transf = transforms.Compose([transforms.Resize((256, 256)), transforms.CenterCrop(224), transforms.ToTensor(), normalize])    \n",
    "    return transf\n",
    " \n",
    "def get_input_tensors(img):\n",
    "    transf = get_input_transform()\n",
    "    return transf(img).unsqueeze(0) # unsqueeze converts single image to batch of 1\n",
    " \n",
    "model = models.inception_v3(pretrained=True) # load ResNet50\n",
    "# Load label texts for ImageNet predictions so we know what model is predicting\n",
    "idx2label, cls2label, cls2idx = [], {}, {}\n",
    "with open(os.path.abspath('imagenet_class_index.json'), 'r') as read_file:\n",
    "    class_idx = json.load(read_file)\n",
    "    idx2label = [class_idx[str(k)][1] for k in range(len(class_idx))]\n",
    "    cls2label = {class_idx[str(k)][0]: class_idx[str(k)][1] for k in range(len(class_idx))}\n",
    "    cls2idx = {class_idx[str(k)][0]: k for k in range(len(class_idx))}   \n",
    "\n",
    "def get_image(path):\n",
    "    with open(os.path.abspath(path), 'rb') as f:\n",
    "        with Image.open(f) as img:\n",
    "            return img.convert('RGB') "
   ]
  },
  {
   "cell_type": "code",
   "execution_count": 21,
   "metadata": {
    "colab": {
     "base_uri": "https://localhost:8080/",
     "height": 98
    },
    "colab_type": "code",
    "id": "jOU-aRGQhyg1",
    "outputId": "4e8928c9-201a-45c4-e7a8-bba7e44196d9"
   },
   "outputs": [
    {
     "data": {
      "text/plain": [
       "(('Bernese_mountain_dog', 0.93593),\n",
       " ('EntleBucher', 0.03844796),\n",
       " ('Appenzeller', 0.023756307),\n",
       " ('Greater_Swiss_Mountain_dog', 0.0018181851),\n",
       " ('Gordon_setter', 9.113298e-06))"
      ]
     },
     "execution_count": 21,
     "metadata": {
      "tags": []
     },
     "output_type": "execute_result"
    }
   ],
   "source": [
    "img = get_image('dogs.png')\n",
    "# Get prediction for image.\n",
    "img_t = get_input_tensors(img)\n",
    "model.eval()\n",
    "logits = model(img_t)\n",
    " \n",
    "# Predictions are logits; pass through softmax to get probabilities and class labels for top 5 predictions.\n",
    "probs = F.softmax(logits, dim=1)\n",
    "probs5 = probs.topk(5)\n",
    "tuple((idx2label[c], p) for p, c in zip(probs5[0][0].detach().numpy(), probs5[1][0].detach().numpy()))"
   ]
  },
  {
   "cell_type": "markdown",
   "metadata": {
    "colab_type": "text",
    "id": "O_shI53xhyg3"
   },
   "source": [
    "Viewing the chosen model metrics is about as good as we can get in terms of interpretability with a neural network, and with using traditional out of the box models."
   ]
  },
  {
   "cell_type": "markdown",
   "metadata": {
    "colab_type": "text",
    "id": "O0m6lVQOhyg3"
   },
   "source": [
    "LIME:"
   ]
  },
  {
   "cell_type": "code",
   "execution_count": null,
   "metadata": {
    "colab": {},
    "colab_type": "code",
    "id": "IZFw7PMSpQQU"
   },
   "outputs": [],
   "source": [
    "from lime import lime_image\n",
    "from skimage.segmentation import mark_boundaries"
   ]
  },
  {
   "cell_type": "code",
   "execution_count": null,
   "metadata": {
    "colab": {},
    "colab_type": "code",
    "id": "18JxRpEShyg4"
   },
   "outputs": [],
   "source": [
    "def get_pil_transform(): \n",
    "    transf = transforms.Compose([transforms.Resize((256, 256)),transforms.CenterCrop(224)])   \n",
    "    return transf\n",
    " \n",
    "def get_preprocess_transform():\n",
    "    normalize = transforms.Normalize(mean=[0.485, 0.456, 0.406], std=[0.229, 0.224, 0.225])     \n",
    "    transf = transforms.Compose([transforms.ToTensor(), normalize])    \n",
    "    return transf    "
   ]
  },
  {
   "cell_type": "code",
   "execution_count": null,
   "metadata": {
    "colab": {},
    "colab_type": "code",
    "id": "zAKBdXwYhyg6"
   },
   "outputs": [],
   "source": [
    "pill_transf = get_pil_transform()\n",
    "preprocess_transform = get_preprocess_transform()"
   ]
  },
  {
   "cell_type": "code",
   "execution_count": null,
   "metadata": {
    "colab": {},
    "colab_type": "code",
    "id": "Ar9p1f_Rhyg8"
   },
   "outputs": [],
   "source": [
    "def batch_predict(images):\n",
    "    model.eval()\n",
    "    batch = torch.stack(tuple(preprocess_transform(i) for i in images), dim=0)\n",
    " \n",
    "    device = torch.device(\"cuda\" if torch.cuda.is_available() else \"cpu\")\n",
    "    model.to(device)\n",
    "    batch = batch.to(device)\n",
    "    \n",
    "    logits = model(batch)\n",
    "    probs = F.softmax(logits, dim=1)\n",
    "    return probs.detach().cpu().numpy()"
   ]
  },
  {
   "cell_type": "code",
   "execution_count": 31,
   "metadata": {
    "colab": {
     "base_uri": "https://localhost:8080/",
     "height": 33
    },
    "colab_type": "code",
    "id": "FrlCaSBGhyg-",
    "outputId": "e0b6d41e-8145-447c-8897-e84e813cbc51"
   },
   "outputs": [
    {
     "name": "stderr",
     "output_type": "stream",
     "text": [
      "\n"
     ]
    }
   ],
   "source": [
    "test_pred = batch_predict([pill_transf(img)])\n",
    "test_pred.squeeze().argmax()\n",
    "\n",
    "explainer = lime_image.LimeImageExplainer()\n",
    "explanation = explainer.explain_instance(np.array(pill_transf(img)), \n",
    "                                         batch_predict, # classification function\n",
    "                                         top_labels=5, \n",
    "                                         hide_color=0, \n",
    "                                         num_samples=100000) # number of images that will be sent to classification function\n",
    " "
   ]
  },
  {
   "cell_type": "code",
   "execution_count": 32,
   "metadata": {
    "colab": {
     "base_uri": "https://localhost:8080/",
     "height": 285
    },
    "colab_type": "code",
    "id": "buBCzPXKqfet",
    "outputId": "96ce139a-73e0-4367-bbe4-9c9a5dcfc12a"
   },
   "outputs": [
    {
     "data": {
      "text/plain": [
       "<matplotlib.image.AxesImage at 0x7fc53d345208>"
      ]
     },
     "execution_count": 32,
     "metadata": {
      "tags": []
     },
     "output_type": "execute_result"
    },
    {
     "data": {
      "image/png": "[encoded data removed]",
      "text/plain": [
       "<Figure size 432x288 with 1 Axes>"
      ]
     },
     "metadata": {
      "tags": []
     },
     "output_type": "display_data"
    }
   ],
   "source": [
    "temp, mask = explanation.get_image_and_mask(explanation.top_labels[0], positive_only=True, num_features=5, hide_rest=True)\n",
    "img_boundry1 = mark_boundaries(temp/255.0, mask)\n",
    "plt.imshow(img_boundry1)"
   ]
  },
  {
   "cell_type": "markdown",
   "metadata": {},
   "source": [
    "Above we can see the outline of our image showing how the image is selecting the edges. On top of this one may preview areas were attributed to being for and against the prediction."
   ]
  },
  {
   "cell_type": "markdown",
   "metadata": {
    "colab_type": "text",
    "id": "I8qrKN4KhyhB"
   },
   "source": [
    "## Value Proposition: We will show you how to do this yourself, so next time someone asks you what problem your code directly solves, you can tell (explain) them more than just the top-5 accuracy.\n",
    "\n",
    "  "
   ]
  },
  {
   "cell_type": "markdown",
   "metadata": {
    "colab_type": "text",
    "id": "Y8bgHus2hyhD"
   },
   "source": [
    "# Explainability as a workflow:\n",
    "\n",
    "Objectives:\n",
    "- USER UNDERSTANDS THE REASONING BEHIND EXPLAINABILITY\n",
    "- CAN USE LOAN REJECTION AS A SIMPLE EXAMPLE\n",
    "- USER IN THEIR OWN WORDS CAN DESCRIBE WHAT EXPLAINABILITY IS\n",
    "- USER UNDERSTANDS DIFFERENT ASPECTS OF EXPLAINABILITY\n",
    "- DIFFERENT STAKEHOLDERS HAVE DIFFERENT THRESHOLDS\n",
    "- IDEAL TIME:  5 MINUTES [12 MINUTES]"
   ]
  },
  {
   "cell_type": "markdown",
   "metadata": {
    "colab_type": "text",
    "id": "-RFytEzohyhF"
   },
   "source": [
    "## Explainability can be integrated into the workflow from the very beginning.\n",
    "\n",
    "    Explainability can be done in two ways; one is post-hoc explanations of a given training model, the second is to have an interpretable model. The interpretability is the ability to reveal all the mathematical operations and parameters in a system. We can then use interpretability to get the explainability. The process of adding in explainability from the beginning depends on the type of model. \n",
    "\n",
    "    We have simple models like linear regression and we have more complex models such as random forest regression or neural nets. With simple models we can look at all of the given features multiplied by their weights and then view the summation of these. This summation is additive which makes it more simple to understand. With more complex models it is harder to understand because we can’t single out simple individual equations. Instead we take all of the features that are going to our summation and we give them a credit. This method is applied to a number of models such as LIME, DeepLIFT, Shapley sampling, and more."
   ]
  },
  {
   "cell_type": "markdown",
   "metadata": {
    "colab_type": "text",
    "id": "AfN01gmahyhF"
   },
   "source": [
    "## Resource constraints, data protection, downstream tasks are all affected by the inherent explainability of previous processes.\n",
    "\n",
    "    The number of people can have varying degrees of expertise. Resources may include available computational power, money, number of people, level of expertise. Explainability can be affected by any one of these. With more resources, the ability to understand a more complex problem is most likely to go up.\n",
    "\n",
    "    Data protection may be harder due to explainability potentially being heavily reliable on understanding what the values are and the business logic surrounding those values. There may be a need to tie the values to an individual, and most likely depends on a wide variety of contexts.  "
   ]
  },
  {
   "cell_type": "markdown",
   "metadata": {
    "colab_type": "text",
    "id": "us9xDKoZhyhH"
   },
   "source": [
    "## Why should we create explainable workflows?\n",
    "\n",
    "    Explainability in workflows helps improve or better define the following: debugging, stakeholder trust, insight in specific outputs, insight in high level concepts of models, and an overall understanding of how a model works. Let’s look further at the overall understanding. This can be further broken down into debugging, monitoring, transparency, and auditing. When looking at model performance, a common area of struggle is debugging, especially with more complex models such as random forests or neural nets. \n",
    "\n",
    "    By utilizing explainability we can see causes for why the model performs poorly on specific inputs. This naturally leads to better feature engineering and knowing why we are dropping certain features due to things such as redundancy. Let’s look at this in a little more detail. One way to look at this is that we want to be able to attribute a model’s prediction to its feature inputs. For example, we want to know why the prediction of hypoxemia (low oxygen in the blood) for an anesthetized patient is being predicted, not just that our model is predicting a 90% accuracy. Otherwise we aren’t sure which of the 7 different knobs the anesthesiologist needs to turn. We call this the attribution problem. One such attribution method is gradient based. This takes feature values * gradients ( xi * 𝜕y/𝜕x ). The gradient captures sensitivity of output with respect to the feature; remember partial derivatives for this."
   ]
  },
  {
   "cell_type": "markdown",
   "metadata": {
    "colab_type": "text",
    "id": "d4H5a58LhyhI"
   },
   "source": [
    "## Different thresholds for explainability; loan rejection and cancer diagnosis versus identifying a cat versus a dog.\n",
    "\n",
    "    Loan rejection: with a loan rejection we can use a model-agnostic method. This will most likely be represented as tabular data. With tabular data we can view feature importance relative to their impact on the models accuracy by graphing them as a barchart. We can ignore the features that have minimal or no impact on the models accuracy and focus on the alternative. Depending on what’s meant here for thresholds depends on the definition. If we are talking about model-specific methods then we can preview linear regression and feature importance levels. If we are talking about model-agnostic methods such as Shapley values we can use similar feature importances; however, with a slightly different meaning. In both cases the threshold would be both the overall accuracy of the model, as well as the individual feature importances and the degree to which those represent the overall accuracy. \n",
    "\n",
    "    Cancer diagnosis: an example of interpretability for cancer diagnosis could be the pixels being colored red or green as a representation of cancerous cells. This is not necessarily an explanation. Those are simply the models attributions of x connected to y outcome. What we are looking for is high level semantic explanations. We want the model to be able to say ‘I predict this is cancer because the bone density is 40% lower in this region compared to the overall average.’ We also want the model to provide us with semantic feature explanations for why it doesn’t think other areas are not cancerous like ‘This area was predicted 90% accuracy as not being cancerous based on the majority of healthy individual comparisons.’"
   ]
  },
  {
   "cell_type": "markdown",
   "metadata": {
    "colab_type": "text",
    "id": "UhTgCuWbhyhJ"
   },
   "source": [
    "## Vertical, horizontal, and diagonal explainability. Vertical looks both up and down within a business unit, where explainability can be delivered to both managers and downstream users (upstream).\n",
    "\n",
    "    Explainability can be used to help users, both experts and laymen, to understand their model better. Explainability can also act as an extension to be able to gain better feedback loops from the end users. By letting a patient know what are the highest contributors to a prediction of a heart attack they can better work with their highest risk factors. "
   ]
  },
  {
   "cell_type": "markdown",
   "metadata": {
    "colab_type": "text",
    "id": "uBc73_J5hyhK"
   },
   "source": [
    "## Horizontal explainability pertains to individuals across the same business unit (horizontal).\n",
    "\n",
    "    By better understanding what our model is doing we can better communicate with our co-workers. This can be in a corporate setting, an academic setting, or others. Horizontal communication will be altered by means of becoming more of a central focus. Metrics and interpretability will be important but focus will shift to being able to explain any given situation or result. "
   ]
  },
  {
   "cell_type": "markdown",
   "metadata": {
    "colab_type": "text",
    "id": "xudUYSNKhyhK"
   },
   "source": [
    "## Diagonal explainability is a combination of vertical and horizontal explainability, where processes may be shared across business units, and explainability is desired for both end-users and principal agents (management). (downstream).\n",
    "\n",
    "    Diagonal explainability will have many of the benefits of horizontal with the possibility to have a greater impact. By providing explanations to at a diagonal level upper management can run a business with greater impact and employees can see more of why upper management is making certain decisions. "
   ]
  },
  {
   "cell_type": "markdown",
   "metadata": {
    "colab_type": "text",
    "id": "ot13Nx_qhyhL"
   },
   "source": [
    "## How will explainability practice empower data scientists?\n",
    "\n",
    "    Explainability will empower data scientists by providing them with a general language to be able to communicate why decisions are being made, or why bias is happening within a model. As mentioned before explainability will allow data scientists to be able to provide themselves and each other with high level semantic feature explanations. It will allow data scientists to be able to better explore their models and find what exactly is wrong with them. Remember that in a lot of models we have correlation which shows what the most important features that correlate with the outcome are. Some models also have causality. Explainability is being able to take correlation, causation, and other tools to enable higher level explanations. "
   ]
  },
  {
   "cell_type": "markdown",
   "metadata": {
    "colab_type": "text",
    "id": "eHn9eXpIhyhL"
   },
   "source": [
    "## DRY [don’t repeat yourself] and CACE [change anything change everything] can be alleviated if we have a deep understanding of our use-case, data, models, end-user, and subsequent downstream tasks.\n",
    "\n",
    "    Understanding the basic outline of our our libraries and models is a good place to start. By understanding the map we can more quickly know when and when not to use the map. \n",
    "    \n",
    "Below is a breakdown of popular libraries used for neural net interpretability and explainability; for Tensorflow and Pytorch. We can see below how each have broken down their models. By mixing this knowledge with other libraries and sources like academic papers, we can build a more robust and flexible view of explainability and how to implement it.\n",
    "\n",
    "tf-explain:\n",
    "- Activation Visualization: Visualize how a given input comes out of a specific activation layer.\n",
    "- Vanilla Gradients:        Visualize gradients on the inputs towards the decision.\n",
    "- Gradients*Inputs:         Variant of Vanilla Gradients weighting gradients with input values.\n",
    "- Occlusion Sensitivity:    Visualize how parts of the image affects neural network’s confidence by occluding parts iteratively\n",
    "- Grad CAM:                 Visualize how parts of the image affects neural network’s output by looking into the activation maps\n",
    "- SmoothGrad:               Visualize stabilized gradients on the inputs towards the decision.\n",
    "- Integrated Gradients:     Visualize an average of the gradients along the construction of the input towards the decision.\n",
    "\n",
    "Pytorch Captum:\n",
    "General Attribution: input feature to the output of a model.\n",
    "- Integrated Gradients\n",
    "- Gradient SHAP\n",
    "- DeepLIFT\n",
    "- DeepLIFT SHAP\n",
    "- Saliency\n",
    "- Input X Gradient\n",
    "- Guided Backpropagation\n",
    "- Guided GradCAM\n",
    "Layer Attribution:   neuron in a given layer to the output of the model.\n",
    "- Layer Conductance\n",
    "- Internal Influence\n",
    "- Layer Activation\n",
    "- Layer Gradient X Activation\n",
    "- GradCAM\n",
    "Neuron Attribution:  input feature on the activation of a particular hidden neuron.\n",
    "- Neuron Conductance\n",
    "- Neuron Gradient\n",
    "- Neuron Integrated Gradients\n",
    "- Neuron Guided Backpropagation\n",
    "\n",
    "Noise Tunnel: computes any given attribution multiple times; adds Gaussin noise.\n",
    "- SmoothGrad:         Mean of sample attributions\n",
    "- SmotthGrad Squared: Mean of squared sample attributions\n",
    "- Vargrad:            Variance of sample attributions"
   ]
  },
  {
   "cell_type": "markdown",
   "metadata": {
    "colab_type": "text",
    "id": "hhj0NCRVhyhM"
   },
   "source": [
    "## CODE: example of manually implemented, repetitive code (non pep-8 compliant) and poorly executed. Talk about how this relates to CACE and DRY, why, and offer solutions. Refer to solution as something that will be discussed in the future (incentivize continuous use of the course).\n",
    "\n",
    "-- This may also be represented as a code example, i.e. python functions and classes, general structure of a python project, or general structure of a data science project with examples in Pytorch or Tensorflow. \n",
    "\n"
   ]
  },
  {
   "cell_type": "code",
   "execution_count": null,
   "metadata": {
    "colab": {},
    "colab_type": "code",
    "id": "gItu81_36UJK"
   },
   "outputs": [],
   "source": [
    "# DRY\n",
    "#Use foor loops and functions when possible.\n",
    "print(1)\n",
    "print(2)\n",
    "print(3)\n",
    "# Utilize lists and for loops instead of repeat code. \n",
    "nums = [1,2,3]\n",
    "for x in nums:\n",
    "    print(x)\n",
    "\n",
    "# Decorators\n",
    "# Decorators allow us to wrap a function with another function. i.e. func(func)\n",
    "# Using decorators helps minimize redundancy and increases readability in code\n",
    "\n",
    "# Wrong implementation using function w/ function\n",
    "def SQUARED( x ):\n",
    "    return lambda x:func( x )*func( x )\n",
    "\n",
    "# pep-8 compliant\n",
    "def squared(x):\n",
    "    return lambda x: func(x) * func(x)\n",
    "\n",
    "def x_plus_2(x):\n",
    "    return x + 2\n",
    "\n",
    "# Poorly implemented decorator\n",
    "x_plus_2 = squared(x_plus_2)\n",
    "\n",
    "# Better implementation of decorator\n",
    "@squared\n",
    "def x_plus_2(x):\n",
    "    return x + 2\n",
    "\n",
    "# Decorators with classes and use of classes themselves creates clean and efficient code. \n",
    "# Classes are commonly used in both Pytorch and Tensorflow to create the initial neural network structure. \n",
    "from random import randint\n",
    "class Person(object):\n",
    "    def __init__(self, name, turn):\n",
    "        self.name = name\n",
    "        self.turn = turn\n",
    "        \n",
    "    def get_name1():\n",
    "        while 1:\n",
    "            name = input(\"What is your name Player 1?\")\n",
    "            if name.isalpha() == False:\n",
    "                print(\"\\nPlease enter your name.\\n\")\n",
    "            else:\n",
    "                print(\"\\nNice to meet you %s.\\n\" % name)\n",
    "                return name\n",
    "                break\n",
    "    def get_name2():\n",
    "        while 1:\n",
    "            name = input(\"What is your name Player 2?\")\n",
    "            if name.isalpha() == False:\n",
    "                print(\"\\nPlease enter your name.\\n\")\n",
    "            else:\n",
    "                print(\"\\nNice to meet you %s.\\n\" % name)\n",
    "                return name\n",
    "                break\n",
    "\n",
    "Player1 = Person(Person.get_name1(), 1)\n",
    "Player2 = Person(Person.get_name2(), 2)\n",
    "\n",
    "print(\"Hello %s. You are Player 1.\" % Player1.name)\n",
    "print(\"Hello %s. You are Player 2.\" % Player2.name)\n",
    "\n",
    "# Class applied with decorator \n",
    " class Person(object):\n",
    "    def __init__(self, name, turn):\n",
    "        self.name = name\n",
    "        self.turn = turn\n",
    "\n",
    "    @classmethod\n",
    "    def create(cls, turn):\n",
    "        while True:\n",
    "            name = input(\"What is your name Player 1?\" % turn)\n",
    "            if name.isalpha():\n",
    "                break;\n",
    "            print(\"\\nPlease enter your name.\\n\")\n",
    "        print(\"\\nNice to meet you %s.\\n\" % name)\n",
    "        return cls(name, turn)\n",
    "\n",
    "Player1 = Person.create(1)\n",
    "Player2 = Person.create(2)\n",
    "\n",
    "print(\"Hello %s. You are Player 1.\" % Player1.name)\n",
    "print(\"Hello %s. You are Player 2.\" % Player2.name)\n",
    "\n",
    "# Include at beginning of pytorch code for reproducibility\n",
    "# np.random.seed(1)\n",
    "# torch.manual_seed(1)\n",
    "# torch.cuda.manual_seed(1)"
   ]
  },
  {
   "cell_type": "markdown",
   "metadata": {
    "colab_type": "text",
    "id": "87-vq-1VhyhM"
   },
   "source": [
    "## Show the same thing in LALE, not too much detail, just show the ease of readability, which we can use as a precursor to explainability.\n",
    "\n",
    "semi-automated machine learning? "
   ]
  },
  {
   "cell_type": "markdown",
   "metadata": {
    "colab_type": "text",
    "id": "xrWQ26yThyhN"
   },
   "source": [
    "## Explainability is greater than the sum of its parts (important to focus on this area. Ask research what are the steps that lead to explainability? Readability, generalizability, ease of use, required knowledge = explainability."
   ]
  }
 ],
 "metadata": {
  "accelerator": "GPU",
  "colab": {
   "name": "Untitled.ipynb",
   "provenance": []
  },
  "kernelspec": {
   "display_name": "Python 3",
   "language": "python",
   "name": "python3"
  },
  "language_info": {
   "codemirror_mode": {
    "name": "ipython",
    "version": 3
   },
   "file_extension": ".py",
   "mimetype": "text/x-python",
   "name": "python",
   "nbconvert_exporter": "python",
   "pygments_lexer": "ipython3",
   "version": "3.7.4"
  },
  "toc-autonumbering": true,
  "toc-showcode": false,
  "toc-showmarkdowntxt": true,
  "toc-showtags": false
 },
 "nbformat": 4,
 "nbformat_minor": 4
}
