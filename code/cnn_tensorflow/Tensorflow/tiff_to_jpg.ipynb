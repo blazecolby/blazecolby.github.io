{
 "cells": [
  {
   "cell_type": "code",
   "execution_count": 1,
   "metadata": {},
   "outputs": [],
   "source": [
    "import os\n",
    "from PIL import Image\n"
   ]
  },
  {
   "cell_type": "code",
   "execution_count": 3,
   "metadata": {},
   "outputs": [
    {
     "data": {
      "text/plain": [
       "'/Users/home/Documents/Tensorflow'"
      ]
     },
     "execution_count": 3,
     "metadata": {},
     "output_type": "execute_result"
    }
   ],
   "source": [
    "os.getcwd()\n"
   ]
  },
  {
   "cell_type": "code",
   "execution_count": 7,
   "metadata": {},
   "outputs": [
    {
     "name": "stdout",
     "output_type": "stream",
     "text": [
      "/Users/home/Documents/Tensorflow/workspace/training_demo/images/test/.DS_Store\n",
      "/Users/home/Documents/Tensorflow/workspace/training_demo/images/test/00000015.xml\n",
      "/Users/home/Documents/Tensorflow/workspace/training_demo/images/test/00000014.xml\n",
      "/Users/home/Documents/Tensorflow/workspace/training_demo/images/test/00000014.tif\n",
      "Generating jpeg for 00000014.tif\n",
      "/Users/home/Documents/Tensorflow/workspace/training_demo/images/test/00000015.tif\n",
      "Generating jpeg for 00000015.tif\n",
      "/Users/home/Documents/Tensorflow/workspace/training_demo/images/train/00000010.xml\n",
      "/Users/home/Documents/Tensorflow/workspace/training_demo/images/train/00000004.xml\n",
      "/Users/home/Documents/Tensorflow/workspace/training_demo/images/train/00000005.xml\n",
      "/Users/home/Documents/Tensorflow/workspace/training_demo/images/train/00000011.xml\n",
      "/Users/home/Documents/Tensorflow/workspace/training_demo/images/train/00000007.xml\n",
      "/Users/home/Documents/Tensorflow/workspace/training_demo/images/train/00000013.xml\n",
      "/Users/home/Documents/Tensorflow/workspace/training_demo/images/train/00000012.xml\n",
      "/Users/home/Documents/Tensorflow/workspace/training_demo/images/train/00000006.xml\n",
      "/Users/home/Documents/Tensorflow/workspace/training_demo/images/train/00000002.xml\n",
      "/Users/home/Documents/Tensorflow/workspace/training_demo/images/train/.DS_Store\n",
      "/Users/home/Documents/Tensorflow/workspace/training_demo/images/train/00000003.xml\n",
      "/Users/home/Documents/Tensorflow/workspace/training_demo/images/train/00000001.xml\n",
      "/Users/home/Documents/Tensorflow/workspace/training_demo/images/train/00000003.tif\n",
      "Generating jpeg for 00000003.tif\n",
      "/Users/home/Documents/Tensorflow/workspace/training_demo/images/train/00000002.tif\n",
      "Generating jpeg for 00000002.tif\n",
      "/Users/home/Documents/Tensorflow/workspace/training_demo/images/train/00000001.tif\n",
      "Generating jpeg for 00000001.tif\n",
      "/Users/home/Documents/Tensorflow/workspace/training_demo/images/train/00000005.tif\n",
      "Generating jpeg for 00000005.tif\n",
      "/Users/home/Documents/Tensorflow/workspace/training_demo/images/train/00000011.tif\n",
      "Generating jpeg for 00000011.tif\n",
      "/Users/home/Documents/Tensorflow/workspace/training_demo/images/train/00000010.tif\n",
      "Generating jpeg for 00000010.tif\n",
      "/Users/home/Documents/Tensorflow/workspace/training_demo/images/train/00000004.tif\n",
      "Generating jpeg for 00000004.tif\n",
      "/Users/home/Documents/Tensorflow/workspace/training_demo/images/train/00000012.tif\n",
      "Generating jpeg for 00000012.tif\n",
      "/Users/home/Documents/Tensorflow/workspace/training_demo/images/train/00000006.tif\n",
      "Generating jpeg for 00000006.tif\n",
      "/Users/home/Documents/Tensorflow/workspace/training_demo/images/train/00000007.tif\n",
      "Generating jpeg for 00000007.tif\n",
      "/Users/home/Documents/Tensorflow/workspace/training_demo/images/train/00000013.tif\n",
      "Generating jpeg for 00000013.tif\n",
      "/Users/home/Documents/Tensorflow/workspace/training_demo/images/train/00000009.tif\n",
      "Generating jpeg for 00000009.tif\n",
      "/Users/home/Documents/Tensorflow/workspace/training_demo/images/train/00000008.tif\n",
      "Generating jpeg for 00000008.tif\n",
      "/Users/home/Documents/Tensorflow/workspace/training_demo/images/train/00000008.xml\n",
      "/Users/home/Documents/Tensorflow/workspace/training_demo/images/train/00000009.xml\n",
      "/Users/home/Documents/Tensorflow/workspace/training_demo/images/.DS_Store\n"
     ]
    }
   ],
   "source": [
    "yourpath = '/Users/home/Documents/Tensorflow/workspace/training_demo/images/'\n",
    "for root, dirs, files in os.walk(yourpath, topdown=False):\n",
    "    for name in files:\n",
    "        print(os.path.join(root, name))\n",
    "        if os.path.splitext(os.path.join(root, name))[1].lower() == \".tif\":\n",
    "            if os.path.isfile(os.path.splitext(os.path.join(root, name))[0] + \".jpg\"):\n",
    "                print(\"A jpeg file already exists for %s\" % name)\n",
    "            # If a jpeg is *NOT* present, create one from the tiff.\n",
    "            else:\n",
    "                outfile = os.path.splitext(os.path.join(root, name))[0] + \".jpg\"\n",
    "                try:\n",
    "                    im = Image.open(os.path.join(root, name))\n",
    "                    print(\"Generating jpeg for %s\" % name)\n",
    "                    im.thumbnail(im.size)\n",
    "                    im.save(outfile, \"JPEG\", quality=100)\n",
    "                except Exception as e:\n",
    "                    print(e)"
   ]
  },
  {
   "cell_type": "code",
   "execution_count": null,
   "metadata": {},
   "outputs": [],
   "source": []
  }
 ],
 "metadata": {
  "kernelspec": {
   "display_name": "Python 3",
   "language": "python",
   "name": "python3"
  },
  "language_info": {
   "codemirror_mode": {
    "name": "ipython",
    "version": 3
   },
   "file_extension": ".py",
   "mimetype": "text/x-python",
   "name": "python",
   "nbconvert_exporter": "python",
   "pygments_lexer": "ipython3",
   "version": "3.7.3"
  }
 },
 "nbformat": 4,
 "nbformat_minor": 2
}
