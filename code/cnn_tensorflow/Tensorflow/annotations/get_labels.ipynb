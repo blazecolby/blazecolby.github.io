{
 "cells": [
  {
   "cell_type": "code",
   "execution_count": 80,
   "metadata": {},
   "outputs": [],
   "source": [
    "import pandas as pd\n",
    "\n",
    "# Training\n",
    "filename = 'train_labels.csv'\n",
    "file = pd.read_csv(filename,header=None)\n",
    "file = file[3]\n",
    "end = '\\n'\n",
    "s = ' '\n",
    "ID = 1\n",
    "name = 'training.txt'\n",
    "\n",
    "for x in file[1:]:\n",
    "    out = ''\n",
    "    out += 'item' + s + '{' + end\n",
    "    out += s*2 + 'id:' + ' ' + (str(ID)) + end\n",
    "    out += s*2 + 'name:' + ' ' + '\\'' + str(x) + '\\'' + end\n",
    "#     out += s*2 + 'display_name:' + ' ' + '\\'' + str(x) + '\\'' + end\n",
    "    out += '}' + end    \n",
    "    ID += 1\n",
    "    with open(name, 'a') as f:\n",
    "        f.write(out)"
   ]
  },
  {
   "cell_type": "code",
   "execution_count": 81,
   "metadata": {},
   "outputs": [],
   "source": [
    "# Testing\n",
    "filename = 'test_labels.csv'\n",
    "file = pd.read_csv(filename,header=None)\n",
    "file = file[3]\n",
    "\n",
    "end = '\\n'\n",
    "s = ' '\n",
    "ID = ID\n",
    "name = 'testing.txt'\n",
    "\n",
    "for x in file[1:]:\n",
    "    out = ''\n",
    "    out += 'item' + s + '{' + end\n",
    "    out += s*2 + 'id:' + ' ' + (str(ID)) + end\n",
    "    out += s*2 + 'name:' + ' ' + '\\'' + str(x) + '\\'' + end\n",
    "#     out += s*2 + 'display_name:' + ' ' + '\\'' + str(x) + '\\'' + end\n",
    "    out += '}' + end    \n",
    "    ID += 1\n",
    "    with open(name, 'a') as f:\n",
    "        f.write(out)"
   ]
  },
  {
   "cell_type": "code",
   "execution_count": 93,
   "metadata": {},
   "outputs": [],
   "source": [
    "# generate_tfrecord if else statement\n",
    "# Testing\n",
    "filename = 'test_labels.csv'\n",
    "file = pd.read_csv(filename,header=None)\n",
    "file = file[3]\n",
    "end = '\\n'\n",
    "s = ' '\n",
    "ID = 0\n",
    "name = 'function_test.txt'\n",
    "\n",
    "for x in file[2:]:\n",
    "    out = ''\n",
    "    out += 'elif row_label == \\'' + str(x) + '\\':' + end\n",
    "    out += s*4 + 'return ' + str(ID) + end\n",
    "    ID += 1\n",
    "    with open(name, 'a') as f:\n",
    "        f.write(out)"
   ]
  },
  {
   "cell_type": "code",
   "execution_count": 94,
   "metadata": {},
   "outputs": [],
   "source": [
    "# Training\n",
    "filename = 'train_labels.csv'\n",
    "file = pd.read_csv(filename,header=None)\n",
    "file = file[3]\n",
    "end = '\\n'\n",
    "s = ' '\n",
    "ID = ID\n",
    "name = 'function_train.txt'\n",
    "\n",
    "for x in file[2:]:\n",
    "    out = ''\n",
    "    out += 'elif row_label == \\'' + str(x) + '\\':' + end\n",
    "    out += s*4 + 'return ' + str(ID) + end\n",
    "    ID += 1\n",
    "    with open(name, 'a') as f:\n",
    "        f.write(out)"
   ]
  },
  {
   "cell_type": "code",
   "execution_count": null,
   "metadata": {},
   "outputs": [],
   "source": []
  }
 ],
 "metadata": {
  "kernelspec": {
   "display_name": "Python 3",
   "language": "python",
   "name": "python3"
  },
  "language_info": {
   "codemirror_mode": {
    "name": "ipython",
    "version": 3
   },
   "file_extension": ".py",
   "mimetype": "text/x-python",
   "name": "python",
   "nbconvert_exporter": "python",
   "pygments_lexer": "ipython3",
   "version": "3.7.3"
  }
 },
 "nbformat": 4,
 "nbformat_minor": 2
}
